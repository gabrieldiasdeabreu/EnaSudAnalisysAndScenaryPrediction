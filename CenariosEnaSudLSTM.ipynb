{
 "cells": [
  {
   "cell_type": "code",
   "execution_count": 1,
   "metadata": {
    "slideshow": {
     "slide_type": "-"
    }
   },
   "outputs": [
    {
     "name": "stderr",
     "output_type": "stream",
     "text": [
      "/home/pingo/anaconda3/lib/python3.6/site-packages/h5py/__init__.py:36: FutureWarning: Conversion of the second argument of issubdtype from `float` to `np.floating` is deprecated. In future, it will be treated as `np.float64 == np.dtype(float).type`.\n",
      "  from ._conv import register_converters as _register_converters\n",
      "Using TensorFlow backend.\n"
     ]
    }
   ],
   "source": [
    "# Install the plaidml backend\n",
    "# import plaidml.keras\n",
    "# plaidml.keras.install_backend()\n",
    "\n",
    "import numpy as np\n",
    "import matplotlib.pyplot as plt\n",
    "import scipy.stats\n",
    "from keras import backend as K\n",
    "from keras import models\n",
    "from keras.models import model_from_json, Sequential\n",
    "from keras.layers import Dense, Activation, LSTM, Dropout\n",
    "from keras.callbacks import EarlyStopping, ModelCheckpoint\n",
    "\n",
    "import pandas as pd\n",
    "from sklearn.preprocessing import MinMaxScaler, StandardScaler\n",
    "import seaborn as sns\n",
    "import warnings\n",
    "warnings.filterwarnings(\"ignore\")\n",
    "# %matplotlib notebook\n",
    "# K.set_learning_phase(0)"
   ]
  },
  {
   "cell_type": "markdown",
   "metadata": {},
   "source": [
    "# Lendo modelos da lista de melhores"
   ]
  },
  {
   "cell_type": "markdown",
   "metadata": {},
   "source": [
    "# carregando Base de Dados e Fazendo janelamento \n",
    "\n",
    "### uma janela de tamanho ordem tem (tamanho da base - ordem) janelas "
   ]
  },
  {
   "cell_type": "code",
   "execution_count": 2,
   "metadata": {
    "scrolled": true
   },
   "outputs": [],
   "source": [
    "caminhoInstancia = 'Instancia/EnaSudNovoAte2016.csv'\n",
    "BaseDados = np.loadtxt( caminhoInstancia, 'float', delimiter=',')\n",
    "BaseDadosOriginal = BaseDados\n",
    "# print(BaseDados.ravel())\n",
    "# BaseDados = MinMaxScaler().fit_transform(BaseDados)\n",
    "# NORMALIZANDO\n",
    "BaseDados = BaseDados.ravel()\n",
    "BaseDados = BaseDados.reshape(len(BaseDados), 1)\n",
    "scaler = StandardScaler().fit(BaseDados)\n",
    "BaseDados = scaler.transform(BaseDados)\n",
    "maxSerie = max(BaseDados)\n",
    "minSerie = min(BaseDados)\n",
    "BaseDados = (BaseDados - minSerie) / (maxSerie - minSerie)\n",
    "# print(BaseDados)\n",
    "# tamanhoBase = len(BaseDados)\n",
    "# pd.DataFrame(BaseDados)\n",
    "nomesMeses = ['Janeiro', 'Fevereiro', 'Março', 'Abril', 'Maio', 'Junho', 'Julho', 'Agosto', 'Setembro', 'Outubro', 'Novembro', 'Dezembro']"
   ]
  },
  {
   "cell_type": "markdown",
   "metadata": {},
   "source": [
    "# representações da Base de Dados\n",
    "+ caracterizações da Base de Dados EnaSud"
   ]
  },
  {
   "cell_type": "code",
   "execution_count": 3,
   "metadata": {},
   "outputs": [],
   "source": [
    "# ordensModelos = [modelo.input_shape[1] for modelo in modelos]"
   ]
  },
  {
   "cell_type": "code",
   "execution_count": 4,
   "metadata": {},
   "outputs": [],
   "source": [
    "def janelamento(serie, ordem):\n",
    "    \"\"\"\n",
    "    Recebe uma serie e retorna um ndArray com n linhas janeladas de ordem em ordem\n",
    "    \"\"\"    \n",
    "    tamanhoSerie = len(serie)\n",
    "#     print(tamanhoSerie)\n",
    "    yAtual = ordem\n",
    "    x = list()\n",
    "    y = list()\n",
    "    while(yAtual < tamanhoSerie):\n",
    "        x.append(serie[(yAtual-ordem):yAtual])\n",
    "        y.append(serie[yAtual])\n",
    "        yAtual+=1\n",
    "    data = pd.DataFrame(x)\n",
    "    data['Y'] = y\n",
    "    return data"
   ]
  },
  {
   "cell_type": "code",
   "execution_count": 5,
   "metadata": {
    "scrolled": true
   },
   "outputs": [],
   "source": [
    "\n",
    "# Faz o janelamento em todos os meses Separando os meses\n",
    "BaseComJanelamento = janelamento(BaseDados.ravel(), 12) #{nomeMes:baseComJanelamento for nomeMes, baseComJanelamento in zip(nomesMeses, [janelamento(BaseDados[:, x], ordensModelos[x]) for x in range(12)])}\n",
    "# BaseComJanelamento"
   ]
  },
  {
   "cell_type": "markdown",
   "metadata": {},
   "source": [
    "# divisao em  treino, val e teste"
   ]
  },
  {
   "cell_type": "code",
   "execution_count": 6,
   "metadata": {
    "scrolled": false
   },
   "outputs": [],
   "source": [
    "tamanhoVal = 5*12\n",
    "tamanhoTeste = 5*12\n",
    "# tamanhoTreino = BaseDadosOriginal.shape()# - (tamanhoVal + tamanhoTeste)\n",
    "# print(len(BaseDadosOriginal)-(tamanhoVal + tamanhoTeste))\n",
    "# treino = BaseDados[:tamanhoTreino]\n",
    "# val = BaseDados[tamanhoTreino: tamanhoTreino+tamanhoVal]\n",
    "# teste = BaseDados[tamanhoTreino+tamanhoVal:]\n",
    "# dicionário de dataFrames\n",
    "treino = BaseComJanelamento[:-(tamanhoTeste)]#BaseComJanelamento[:-(tamanhoVal+tamanhoTeste)]\n",
    "# val = BaseComJanelamento[-(tamanhoVal+tamanhoTeste):-(tamanhoTeste)]\n",
    "teste = BaseComJanelamento[-(tamanhoTeste):]\n",
    "# [teste['Dezembro'] for mes in nomesMeses]"
   ]
  },
  {
   "cell_type": "markdown",
   "metadata": {},
   "source": [
    "# treino Modelo"
   ]
  },
  {
   "cell_type": "code",
   "execution_count": 7,
   "metadata": {},
   "outputs": [],
   "source": [
    "ordem = 12\n",
    "# tamVal = 5\n",
    "numNeuronios = 50\n",
    "numEpocas = 1000\n",
    "treinoX = np.array(treino.iloc[:, :-1])\n",
    "treinoY = np.array(treino.iloc[:, -1])\n",
    "testeX = np.array(teste.iloc[:, :-1])\n",
    "testeY = np.array(teste.iloc[:, -1])\n",
    "treinoX = np.reshape(treinoX, (treinoX.shape[0], 1, treinoX.shape[1]))\n",
    "testeX = np.reshape(testeX, (testeX.shape[0], 1, testeX.shape[1]))\n",
    "# testeX = np.reshape(testeX, (testeX.shape[0], 1, testeX.shape[1]))\n",
    "# treinoX, treinoY"
   ]
  },
  {
   "cell_type": "code",
   "execution_count": null,
   "metadata": {
    "scrolled": true
   },
   "outputs": [
    {
     "name": "stdout",
     "output_type": "stream",
     "text": [
      "Train on 900 samples, validate on 60 samples\n",
      "Epoch 1/1000\n",
      "5s - loss: 0.0684 - mean_squared_error: 0.0099 - mean_absolute_percentage_error: 62532.6908 - val_loss: 0.0735 - val_mean_squared_error: 0.0101 - val_mean_absolute_percentage_error: 34.2901\n",
      "Epoch 2/1000\n",
      "3s - loss: 0.0569 - mean_squared_error: 0.0064 - mean_absolute_percentage_error: 66369.6186 - val_loss: 0.0651 - val_mean_squared_error: 0.0086 - val_mean_absolute_percentage_error: 33.8563\n",
      "Epoch 3/1000\n",
      "4s - loss: 0.0543 - mean_squared_error: 0.0059 - mean_absolute_percentage_error: 68190.9679 - val_loss: 0.0676 - val_mean_squared_error: 0.0089 - val_mean_absolute_percentage_error: 33.5174\n",
      "Epoch 4/1000\n",
      "3s - loss: 0.0540 - mean_squared_error: 0.0057 - mean_absolute_percentage_error: 49005.5450 - val_loss: 0.0631 - val_mean_squared_error: 0.0082 - val_mean_absolute_percentage_error: 28.3555\n",
      "Epoch 5/1000\n",
      "3s - loss: 0.0524 - mean_squared_error: 0.0053 - mean_absolute_percentage_error: 70195.1881 - val_loss: 0.0636 - val_mean_squared_error: 0.0085 - val_mean_absolute_percentage_error: 32.7045\n",
      "Epoch 6/1000\n",
      "3s - loss: 0.0510 - mean_squared_error: 0.0053 - mean_absolute_percentage_error: 50502.2038 - val_loss: 0.0621 - val_mean_squared_error: 0.0079 - val_mean_absolute_percentage_error: 34.1979\n",
      "Epoch 7/1000\n",
      "3s - loss: 0.0511 - mean_squared_error: 0.0053 - mean_absolute_percentage_error: 56555.8524 - val_loss: 0.0599 - val_mean_squared_error: 0.0077 - val_mean_absolute_percentage_error: 29.8096\n",
      "Epoch 8/1000\n",
      "3s - loss: 0.0504 - mean_squared_error: 0.0053 - mean_absolute_percentage_error: 47268.5143 - val_loss: 0.0607 - val_mean_squared_error: 0.0080 - val_mean_absolute_percentage_error: 31.7664\n",
      "Epoch 9/1000\n",
      "3s - loss: 0.0500 - mean_squared_error: 0.0051 - mean_absolute_percentage_error: 38133.4763 - val_loss: 0.0589 - val_mean_squared_error: 0.0076 - val_mean_absolute_percentage_error: 28.5397\n",
      "Epoch 10/1000\n",
      "3s - loss: 0.0500 - mean_squared_error: 0.0051 - mean_absolute_percentage_error: 52928.0357 - val_loss: 0.0617 - val_mean_squared_error: 0.0083 - val_mean_absolute_percentage_error: 29.6843\n",
      "Epoch 11/1000\n",
      "3s - loss: 0.0493 - mean_squared_error: 0.0050 - mean_absolute_percentage_error: 34049.3014 - val_loss: 0.0593 - val_mean_squared_error: 0.0075 - val_mean_absolute_percentage_error: 33.9996\n",
      "Epoch 12/1000\n",
      "3s - loss: 0.0501 - mean_squared_error: 0.0051 - mean_absolute_percentage_error: 35679.9717 - val_loss: 0.0607 - val_mean_squared_error: 0.0081 - val_mean_absolute_percentage_error: 24.0755\n",
      "Epoch 13/1000\n",
      "3s - loss: 0.0498 - mean_squared_error: 0.0051 - mean_absolute_percentage_error: 44852.8990 - val_loss: 0.0574 - val_mean_squared_error: 0.0075 - val_mean_absolute_percentage_error: 25.8639\n",
      "Epoch 14/1000\n",
      "3s - loss: 0.0497 - mean_squared_error: 0.0051 - mean_absolute_percentage_error: 34472.4261 - val_loss: 0.0679 - val_mean_squared_error: 0.0093 - val_mean_absolute_percentage_error: 25.7773\n",
      "Epoch 15/1000\n",
      "3s - loss: 0.0494 - mean_squared_error: 0.0050 - mean_absolute_percentage_error: 44864.5679 - val_loss: 0.0575 - val_mean_squared_error: 0.0072 - val_mean_absolute_percentage_error: 27.1641\n",
      "Epoch 16/1000\n",
      "3s - loss: 0.0494 - mean_squared_error: 0.0050 - mean_absolute_percentage_error: 28590.5780 - val_loss: 0.0587 - val_mean_squared_error: 0.0077 - val_mean_absolute_percentage_error: 26.1281\n",
      "Epoch 17/1000\n",
      "3s - loss: 0.0496 - mean_squared_error: 0.0051 - mean_absolute_percentage_error: 29029.2018 - val_loss: 0.0568 - val_mean_squared_error: 0.0073 - val_mean_absolute_percentage_error: 24.9157\n",
      "Epoch 18/1000\n",
      "3s - loss: 0.0496 - mean_squared_error: 0.0050 - mean_absolute_percentage_error: 34085.6479 - val_loss: 0.0595 - val_mean_squared_error: 0.0081 - val_mean_absolute_percentage_error: 24.8953\n",
      "Epoch 19/1000\n",
      "3s - loss: 0.0492 - mean_squared_error: 0.0049 - mean_absolute_percentage_error: 49899.4844 - val_loss: 0.0592 - val_mean_squared_error: 0.0079 - val_mean_absolute_percentage_error: 25.8896\n",
      "Epoch 20/1000\n",
      "3s - loss: 0.0495 - mean_squared_error: 0.0050 - mean_absolute_percentage_error: 23362.5010 - val_loss: 0.0567 - val_mean_squared_error: 0.0071 - val_mean_absolute_percentage_error: 29.9557\n",
      "Epoch 21/1000\n",
      "3s - loss: 0.0483 - mean_squared_error: 0.0050 - mean_absolute_percentage_error: 22099.8813 - val_loss: 0.0592 - val_mean_squared_error: 0.0079 - val_mean_absolute_percentage_error: 26.8088\n",
      "Epoch 22/1000\n",
      "3s - loss: 0.0487 - mean_squared_error: 0.0050 - mean_absolute_percentage_error: 52596.8783 - val_loss: 0.0572 - val_mean_squared_error: 0.0074 - val_mean_absolute_percentage_error: 25.2096\n",
      "Epoch 23/1000\n",
      "3s - loss: 0.0484 - mean_squared_error: 0.0050 - mean_absolute_percentage_error: 19426.0480 - val_loss: 0.0573 - val_mean_squared_error: 0.0074 - val_mean_absolute_percentage_error: 24.2729\n",
      "Epoch 24/1000\n",
      "3s - loss: 0.0491 - mean_squared_error: 0.0050 - mean_absolute_percentage_error: 43272.9582 - val_loss: 0.0544 - val_mean_squared_error: 0.0068 - val_mean_absolute_percentage_error: 25.2705\n",
      "Epoch 25/1000\n",
      "3s - loss: 0.0486 - mean_squared_error: 0.0050 - mean_absolute_percentage_error: 24869.3108 - val_loss: 0.0556 - val_mean_squared_error: 0.0071 - val_mean_absolute_percentage_error: 25.2984\n",
      "Epoch 26/1000\n",
      "3s - loss: 0.0482 - mean_squared_error: 0.0049 - mean_absolute_percentage_error: 51472.5461 - val_loss: 0.0554 - val_mean_squared_error: 0.0070 - val_mean_absolute_percentage_error: 25.1859\n",
      "Epoch 27/1000\n",
      "3s - loss: 0.0482 - mean_squared_error: 0.0049 - mean_absolute_percentage_error: 29878.3791 - val_loss: 0.0561 - val_mean_squared_error: 0.0068 - val_mean_absolute_percentage_error: 30.8678\n",
      "Epoch 28/1000\n",
      "3s - loss: 0.0485 - mean_squared_error: 0.0049 - mean_absolute_percentage_error: 26744.0233 - val_loss: 0.0544 - val_mean_squared_error: 0.0067 - val_mean_absolute_percentage_error: 28.2831\n",
      "Epoch 29/1000\n",
      "3s - loss: 0.0485 - mean_squared_error: 0.0048 - mean_absolute_percentage_error: 52315.1645 - val_loss: 0.0583 - val_mean_squared_error: 0.0078 - val_mean_absolute_percentage_error: 25.3462\n",
      "Epoch 30/1000\n",
      "3s - loss: 0.0484 - mean_squared_error: 0.0049 - mean_absolute_percentage_error: 64663.6684 - val_loss: 0.0541 - val_mean_squared_error: 0.0066 - val_mean_absolute_percentage_error: 27.3340\n",
      "Epoch 31/1000\n",
      "3s - loss: 0.0480 - mean_squared_error: 0.0049 - mean_absolute_percentage_error: 32531.5726 - val_loss: 0.0533 - val_mean_squared_error: 0.0067 - val_mean_absolute_percentage_error: 23.5817\n",
      "Epoch 32/1000\n",
      "3s - loss: 0.0483 - mean_squared_error: 0.0048 - mean_absolute_percentage_error: 47138.4841 - val_loss: 0.0545 - val_mean_squared_error: 0.0068 - val_mean_absolute_percentage_error: 25.2095\n",
      "Epoch 33/1000\n",
      "3s - loss: 0.0482 - mean_squared_error: 0.0048 - mean_absolute_percentage_error: 25609.8036 - val_loss: 0.0552 - val_mean_squared_error: 0.0070 - val_mean_absolute_percentage_error: 25.5365\n",
      "Epoch 34/1000\n",
      "3s - loss: 0.0489 - mean_squared_error: 0.0049 - mean_absolute_percentage_error: 13031.7772 - val_loss: 0.0558 - val_mean_squared_error: 0.0071 - val_mean_absolute_percentage_error: 23.4366\n",
      "Epoch 35/1000\n",
      "3s - loss: 0.0478 - mean_squared_error: 0.0048 - mean_absolute_percentage_error: 45999.3140 - val_loss: 0.0543 - val_mean_squared_error: 0.0065 - val_mean_absolute_percentage_error: 29.0125\n",
      "Epoch 36/1000\n"
     ]
    }
   ],
   "source": [
    "modelo = Sequential()\n",
    "modelo.add(LSTM(numNeuronios, return_sequences=False, input_shape=(1, ordem )))\n",
    "# modelo.add(Dropout(0.5))\n",
    "# modelo.add(LSTM(500, return_sequences=False, input_shape=(1, ordem)))\n",
    "\n",
    "# modelo.add(LSTM(250, return_sequences=True, input_shape=(1, ordem)))\n",
    "# modelo.add(Dropout(0.5))\n",
    "# modelo.add(LSTM(100, return_sequences=True, input_shape=(1, ordem)))\n",
    "# modelo.add(Dropout(0.5))\n",
    "# modelo.add(LSTM(50, return_sequences=True, input_shape=(1, ordem)))\n",
    "# modelo.add(Dropout(0.5))\n",
    "# modelo.add(LSTM(25, return_sequences=True, input_shape=(1, ordem)))\n",
    "# modelo.add(Dropout(0.5))\n",
    "# modelo.add(LSTM(10, return_sequences=False, input_shape=(1, ordem)))\n",
    "# modelo.add(Dropout(0.5))\n",
    "# modelo.add(LSTM(numNeuronios))\n",
    "# modelo.add(Dropout(0.8))\n",
    "# model.add(LSTM(4, input_shape=(1, look_back)))\n",
    "modelo.add(Dense(1))\n",
    "modelo.compile(loss='mean_absolute_error', optimizer='adam',  metrics=['mean_squared_error', 'mean_absolute_percentage_error'])\n",
    "salvaModelo = ModelCheckpoint('modeloLstm'+'.hdf5', monitor='val_mean_absolute_percentage_error', verbose=0, save_best_only=True, save_weights_only=False, mode='auto', period=1)\n",
    "earlyStopping = EarlyStopping(monitor='val_loss', patience=300, verbose=0, mode='auto')\n",
    "hist = modelo.fit(treinoX, treinoY, validation_split=(tamanhoVal/len(treinoY)), batch_size=1, epochs=numEpocas, verbose=2, callbacks=[salvaModelo])"
   ]
  },
  {
   "cell_type": "code",
   "execution_count": null,
   "metadata": {},
   "outputs": [],
   "source": [
    "modelo = models.load_model('modeloLstm.hdf5')"
   ]
  },
  {
   "cell_type": "markdown",
   "metadata": {},
   "source": [
    "# graficos metricas treino"
   ]
  },
  {
   "cell_type": "code",
   "execution_count": null,
   "metadata": {},
   "outputs": [],
   "source": [
    "plt.figure(figsize=[16,9])\n",
    "plt.subplot(121)\n",
    "plt.plot(hist.history['val_loss'], label='MAE Validacao')\n",
    "plt.plot(hist.history['loss'], label='MAE Treino')\n",
    "plt.legend()\n",
    "plt.grid(b=True, axis='y')\n",
    "plt.subplot(122)\n",
    "plt.plot(hist.history['val_mean_absolute_percentage_error'], label='MAPE Validacao')\n",
    "# plt.plot(hist.history['mean_absolute_percentage_error'], label='MAE Treino')\n",
    "plt.grid(b=True, axis='y')\n",
    "\n",
    "plt.legend()\n",
    "# plt.close()"
   ]
  },
  {
   "cell_type": "markdown",
   "metadata": {},
   "source": [
    "# histograma de Mapes por mes fazer depois"
   ]
  },
  {
   "cell_type": "code",
   "execution_count": null,
   "metadata": {},
   "outputs": [],
   "source": [
    "plt.figure(figsize=[16,9])\n",
    "previsao = modelo.predict(testeX)\n",
    "x = np.arange(len(previsao))\n",
    "plt.plot(x, testeY, label='real', marker='o')\n",
    "plt.plot(x, previsao, label='previsao', marker='o')\n",
    "plt.xticks(x, [nomesMeses[x][0] for x in range(12)]*5)\n",
    "plt.grid(b=True, axis='x')\n",
    "plt.title('LSTM com uma camada oculta')\n",
    "plt.xlabel('meses em 5 anos')\n",
    "plt.ylabel('MAE')\n",
    "plt.legend()\n",
    "# plt.close()\n"
   ]
  },
  {
   "cell_type": "code",
   "execution_count": null,
   "metadata": {},
   "outputs": [],
   "source": []
  },
  {
   "cell_type": "code",
   "execution_count": null,
   "metadata": {},
   "outputs": [],
   "source": [
    "modelo = models.load_model('modeloLstm2.hdf5')"
   ]
  },
  {
   "cell_type": "code",
   "execution_count": null,
   "metadata": {},
   "outputs": [],
   "source": [
    "plt.figure(figsize=[16,9])\n",
    "plt.subplot(121)\n",
    "plt.plot(hist.history['val_loss'], label='MAE Validacao')\n",
    "plt.plot(hist.history['loss'], label='MAE Treino')\n",
    "plt.legend()\n",
    "plt.grid(b=True, axis='y')\n",
    "plt.subplot(122)\n",
    "plt.plot(hist.history['val_mean_absolute_percentage_error'], label='MAPE Validacao')\n",
    "# plt.plot(hist.history['mean_absolute_percentage_error'], label='MAE Treino')\n",
    "plt.grid(b=True, axis='y')\n",
    "\n",
    "plt.legend()\n",
    "# plt.close()"
   ]
  },
  {
   "cell_type": "code",
   "execution_count": null,
   "metadata": {},
   "outputs": [],
   "source": [
    "plt.figure(figsize=[16,9])\n",
    "previsao = modelo.predict(testeX)\n",
    "x = np.arange(len(previsao))\n",
    "plt.plot(x, testeY, label='real', marker='o')\n",
    "plt.plot(x, previsao, label='previsao', marker='o')\n",
    "\n",
    "plt.xticks(x, [nomesMeses[x][0] for x in range(12)]*5)\n",
    "plt.grid(b=True, axis='x')\n",
    "plt.title('LSTM com uma camada oculta')\n",
    "plt.xlabel('meses em 5 anos')\n",
    "plt.ylabel('MAE')\n",
    "plt.legend()\n",
    "# plt.close()"
   ]
  },
  {
   "cell_type": "code",
   "execution_count": null,
   "metadata": {},
   "outputs": [],
   "source": []
  },
  {
   "cell_type": "code",
   "execution_count": null,
   "metadata": {},
   "outputs": [],
   "source": []
  },
  {
   "cell_type": "code",
   "execution_count": null,
   "metadata": {},
   "outputs": [],
   "source": [
    "# plt.figure(figsize=[16,9])\n",
    "plt.bar(np.arange(1,13), [modelos[nomesMeses.index(mes)].evaluate((teste[mes]).iloc[:, :-1], (teste[mes]).iloc[:, -1], verbose=0)[0] for mes in nomesMeses])\n",
    "plt.xticks(np.arange(1,13), nomesMeses, rotation=90)\n",
    "plt.xlabel('Meses ')\n",
    "plt.ylabel('Mapes (%)')\n",
    "plt.grid(b='on', axis='y')\n",
    "plt.ylim(0, 50)\n",
    "plt.title('Mapes encontrados para cada Mês utilizando os cenários como teste')\n",
    "plt.savefig('graficos/MapesTestePorMes.jpg', dpi=300)"
   ]
  },
  {
   "cell_type": "code",
   "execution_count": null,
   "metadata": {},
   "outputs": [],
   "source": []
  },
  {
   "cell_type": "code",
   "execution_count": null,
   "metadata": {},
   "outputs": [],
   "source": [
    "# [modelos[nomesMeses.index(mes)].predict((teste[mes]).iloc[:, :-1]) for mes in nomesMeses]"
   ]
  },
  {
   "cell_type": "markdown",
   "metadata": {},
   "source": [
    "# Pegar os Resíduos do treino"
   ]
  },
  {
   "cell_type": "code",
   "execution_count": null,
   "metadata": {},
   "outputs": [],
   "source": [
    "previsoesModelos_treino = {mes:modelos[nomesMeses.index(mes)].predict((treino[mes]).iloc[:, :-1]).ravel() for mes in nomesMeses}"
   ]
  },
  {
   "cell_type": "code",
   "execution_count": null,
   "metadata": {},
   "outputs": [],
   "source": [
    "residuos_previsaoxreal = { mes:previsoesModelos_treino[mes] - treino[mes]['Y'] for mes in nomesMeses}"
   ]
  },
  {
   "cell_type": "code",
   "execution_count": null,
   "metadata": {},
   "outputs": [],
   "source": [
    "# residuos_previsaoxreal"
   ]
  },
  {
   "cell_type": "markdown",
   "metadata": {},
   "source": [
    "# Encaixar Resíduos em uma distribuição\n",
    "+ verificar qual a melhor distribuição (p-Values KS)\n",
    "+ listar melhores P-Values"
   ]
  },
  {
   "cell_type": "code",
   "execution_count": null,
   "metadata": {
    "slideshow": {
     "slide_type": "slide"
    }
   },
   "outputs": [],
   "source": [
    "distribuicoes = [ 'alpha', 'anglit', 'arcsine', 'beta', 'betaprime', 'bradford' , 'burr', 'cauchy', 'chi', 'chi2', 'cosine', 'dgamma', 'dweibull', 'erlang', 'expon', 'exponweib', 'exponpow', 'f', 'fatiguelife', 'fisk', 'foldcauchy', 'foldnorm', 'frechet_r', 'frechet_l', 'genlogistic', 'genpareto', 'genexpon', 'genextreme', 'gausshyper', 'gamma', 'gengamma', 'genhalflogistic', 'gilbrat', 'gompertz', 'gumbel_r', 'gumbel_l', 'halfcauchy', 'halflogistic', 'halfnorm', 'hypsecant', 'invgamma', 'invgauss', 'invweibull', 'johnsonsb', 'johnsonsu', 'ksone', 'kstwobign', 'laplace', 'logistic', 'loggamma', 'loglaplace', 'lognorm', 'lomax', 'maxwell', 'mielke', 'nakagami', 'ncx2', 'ncf', 'nct', 'norm', 'pareto', 'pearson3', 'powerlaw', 'powerlognorm', 'powernorm', 'rdist', 'reciprocal', 'rayleigh', 'rice', 'recipinvgauss', 'semicircular', 't', 'triang', 'truncexpon', 'truncnorm', 'tukeylambda', 'uniform', 'vonmises', 'wald', 'weibull_min', 'weibull_max', 'wrapcauchy']"
   ]
  },
  {
   "cell_type": "code",
   "execution_count": null,
   "metadata": {
    "slideshow": {
     "slide_type": "skip"
    }
   },
   "outputs": [],
   "source": [
    " # warnings.filterwarnings('DeprecationWarn' ,category=RuntimeWarning) \n",
    "\n",
    "mes_dist_ks = dict()\n",
    "for mes, residuosVal in residuos_previsaoxreal.items():\n",
    "#     print(mes)\n",
    "    KSsDist = list()\n",
    "    for distribuicao in distribuicoes:\n",
    "#         print(distribuicao)                \n",
    "        dist = getattr(scipy.stats, distribuicao)\n",
    "        parametros = dist.fit(residuosVal)\n",
    "        ks = scipy.stats.kstest(residuosVal, distribuicao, parametros)\n",
    "        KSsDist.append((dist, parametros, ks[1]))\n",
    "    KSsDist = pd.DataFrame(KSsDist)\n",
    "    melhorLinha = KSsDist[2].max()      \n",
    "#     print(KSsDist.iat(pd.Series(melhorLinha)))\n",
    "#     print(KSsDist.loc(KSsDist[2]==melhorLinha, '2'))    \n",
    "    mes_dist_ks[mes] = KSsDist.loc[KSsDist[2] == melhorLinha]\n",
    "# print(mes_dist_ks)\n",
    "# mes_dist_ks = pd.DataFrame(mes_dist_ks)\n",
    "# print(mes_dist_ks)            "
   ]
  },
  {
   "cell_type": "code",
   "execution_count": null,
   "metadata": {},
   "outputs": [],
   "source": [
    "# listPvalues = [mes_dist_ks[mes][2] for mes in nomesMeses]\n",
    "# print(list(listPvalues))\n",
    "pValues_mes = { mes: pValue.values   for mes, pValue in zip(nomesMeses, [mes_dist_ks[mes] for mes in nomesMeses])}"
   ]
  },
  {
   "cell_type": "code",
   "execution_count": null,
   "metadata": {
    "scrolled": true
   },
   "outputs": [],
   "source": [
    "pValues_mes#, index=['pValues']).T"
   ]
  },
  {
   "cell_type": "code",
   "execution_count": null,
   "metadata": {},
   "outputs": [],
   "source": [
    "[pValues_mes[mes][0][2] for mes in nomesMeses]"
   ]
  },
  {
   "cell_type": "code",
   "execution_count": null,
   "metadata": {},
   "outputs": [],
   "source": [
    "plt.figure(figsize=[16,9])\n",
    "plt.bar(np.arange(1,13),[pValues_mes[mes][0][2] for mes in nomesMeses])\n",
    "plt.xticks(np.arange(1,13), [mes+'\\n'+pValues_mes[mes][0][0].name for mes in nomesMeses])\n",
    "plt.xlabel('P-Values')\n",
    "plt.ylabel('meses')\n",
    "plt.grid(b='on', axis='y')\n",
    "plt.title('P-Values dos resíduos em relação à Melhor Distribuição')\n",
    "plt.savefig('graficos/PvaluesDistribuicaoResiduos.jpg')\n",
    "plt.close()"
   ]
  },
  {
   "cell_type": "markdown",
   "metadata": {},
   "source": [
    "# Observações:\n",
    "## <span style=\"color:blue\"> Os p-Values encontrados mostram que os resíduos foram muito bem descritos pelas distribuicões teóricas utilizadas.</span>"
   ]
  },
  {
   "cell_type": "markdown",
   "metadata": {},
   "source": [
    "# gerar cenarios e plotar\n",
    "+ todos os cenários tem o mesmo tamanho + ordem"
   ]
  },
  {
   "cell_type": "code",
   "execution_count": null,
   "metadata": {
    "scrolled": true
   },
   "outputs": [],
   "source": [
    "# pega lambdas e soma nos cenários\n",
    "numCenarios = 1000\n",
    "cenarios = {mes:(mes_dist_ks[mes][0].iloc[0](*mes_dist_ks[mes][1].iloc[0])).rvs(size=(numCenarios + modelos[nomesMeses.index(mes)].input_shape[1]) ) + treino[mes]['Y'].iloc[-1] for mes in nomesMeses }\n",
    "# cenarios"
   ]
  },
  {
   "cell_type": "code",
   "execution_count": null,
   "metadata": {},
   "outputs": [],
   "source": [
    "mediasAfluenciaAnosTreino = { mes : treino[mes]['Y'].iloc[:].mean() for mes in nomesMeses }\n"
   ]
  },
  {
   "cell_type": "markdown",
   "metadata": {},
   "source": [
    "# previsão somente com distribuicoes ( monte carlo )"
   ]
  },
  {
   "cell_type": "code",
   "execution_count": null,
   "metadata": {},
   "outputs": [],
   "source": [
    "# x = np.arange(1,13)\n",
    "# plt.xlim(1,12)\n",
    "# # plt.tight_layout()\n",
    "# # plt.figure(figsize=(16,9))\n",
    "\n",
    "# plt.plot(x, mediasAfluenciaAnosTreino.values())\n",
    "# plt.plot(x, pd.DataFrame(cenarios).mean(axis=0))    \n",
    "# plt.plot(np.transpose(x).reshape(12, 1), cenarios.T, c='black', linewidth=0.1)\n",
    "\n",
    "\n",
    "# cenarios['Janeiro'].mean()"
   ]
  },
  {
   "cell_type": "markdown",
   "metadata": {},
   "source": [
    "# Aplicando modelos nos resíduos\n",
    "+ Janelamento cenários\n",
    "+ Aplicar modelos mês a mês \n"
   ]
  },
  {
   "cell_type": "code",
   "execution_count": null,
   "metadata": {
    "scrolled": true
   },
   "outputs": [],
   "source": [
    "cenariosComJanelamento = {mes: janelamento(cenarios[mes], modelos[nomesMeses.index(mes)].input_shape[1]) for mes in nomesMeses }\n",
    "# cenariosComJanelamento['Janeiro']"
   ]
  },
  {
   "cell_type": "markdown",
   "metadata": {},
   "source": [
    "## Mape quando aplicado ao modelo"
   ]
  },
  {
   "cell_type": "code",
   "execution_count": null,
   "metadata": {},
   "outputs": [],
   "source": [
    "plt.figure(figsize=[16,9])\n",
    "plt.bar(np.arange(1,13),[ modelos[nomesMeses.index(mes)].evaluate((cenariosComJanelamento[mes]).iloc[:, :-1], (cenariosComJanelamento[mes]).iloc[:, -1], verbose=0)[0] for mes in nomesMeses ])\n",
    "plt.xticks(np.arange(1,13), nomesMeses)\n",
    "plt.grid(b='on', axis='y')\n",
    "plt.xlabel('Meses (%)')\n",
    "plt.ylabel('Mapes')\n",
    "plt.title('Mapes encontrados para cada Mês utilizando os cenários como teste')\n",
    "plt.close()"
   ]
  },
  {
   "cell_type": "code",
   "execution_count": null,
   "metadata": {
    "scrolled": true
   },
   "outputs": [],
   "source": [
    "previsoesNosCenarios = {mes:modelos[nomesMeses.index(mes)].predict((cenariosComJanelamento[mes]).iloc[:, :-1]).reshape(5, int(numCenarios/5)) for mes in nomesMeses}\n",
    "# previsoesNosCenarios['Janeiro']"
   ]
  },
  {
   "cell_type": "code",
   "execution_count": null,
   "metadata": {},
   "outputs": [],
   "source": [
    "mediaPrevisoesNosCenarios = [np.mean(previsoesNosCenarios[mes], axis=1) for mes in nomesMeses]\n",
    "stdPrevisoesNosCenarios = [np.std(previsoesNosCenarios[mes], axis=1) for mes in nomesMeses]\n",
    "stdPrevisoesNosCenarios = np.array(stdPrevisoesNosCenarios).T.ravel()\n",
    "mediaPrevisoesNosCenarios = np.array(mediaPrevisoesNosCenarios).T.ravel()\n",
    "# stdPrevisoesNosCenarios\n",
    "# pd.DataFrame(mediaPrevisoesNosCenarios)\n"
   ]
  },
  {
   "cell_type": "code",
   "execution_count": null,
   "metadata": {},
   "outputs": [],
   "source": [
    "mediaConjuntoTeste = [teste[mes]['Y'].mean() for mes in nomesMeses]\n",
    "# plt.subplot(2,1,1)\n",
    "# plt.figure(figsize=[16,9])\n",
    "# # boxplot dos meses para cenário\n",
    "# pd.DataFrame([teste[mes]['Y'] for mes in nomesMeses]).T.boxplot()\n",
    "# plt.subplot(2,1,2)\n",
    "# pd.DataFrame(BaseDadosOriginal).boxplot()\n",
    "# # plt.bar(np.arange(1,13),[ modelos[nomesMeses.index(mes)].evaluate((cenariosComJanelamento[mes]).iloc[:, :-1], (cenariosComJanelamento[mes]).iloc[:, -1], verbose=0)[0] for mes in nomesMeses ])\n",
    "# plt.xticks(np.arange(1,13), nomesMeses)\n",
    "# plt.xlabel('Meses')\n",
    "# plt.ylabel('Afluência Normalizada entre [0,1]')\n",
    "# plt.title('BoxPlot dos cenários gerados')\n",
    "\n"
   ]
  },
  {
   "cell_type": "code",
   "execution_count": null,
   "metadata": {
    "scrolled": false
   },
   "outputs": [],
   "source": [
    "plt.figure(figsize=(20, 9))\n",
    "x = np.arange(1, 61, 1)\n",
    "plt.plot(x, mediaConjuntoTeste*5, label='media Conjunto de Teste', marker='o')\n",
    "plt.plot(x, mediaPrevisoesNosCenarios, label='media Previsões', marker='o')\n",
    "# plt.plot(x, np.reshape(previsoesNosCenariosAux, (12, numCenarios)), c='black', linewidth=0.1 )\n",
    "# plt.subplot((1,2,2))\n",
    "plt.ylabel('Afluência Normalizada')\n",
    "plt.xlabel('Meses (5 Anos)')\n",
    "plt.xlim(1, 60)\n",
    "plt.title('Previsão em vários cenários EnaSud')\n",
    "plt.legend()\n",
    "nomesMeses_3 = [mes[0:3] for mes in nomesMeses]\n",
    "plt.xticks(x, nomesMeses_3 *5, rotation=90)\n",
    "plt.show()\n",
    "plt.close()"
   ]
  },
  {
   "cell_type": "code",
   "execution_count": null,
   "metadata": {},
   "outputs": [],
   "source": [
    "# plotar as linhas dos cenários \n",
    "previsoesNosCenariosAux = [previsoesNosCenarios[mes] for mes in nomesMeses]\n",
    "# arrumar para plotar \n",
    "previsoesNosCenariosAux = np.transpose(previsoesNosCenariosAux, (1, 0, 2))\n",
    "previsoesNosCenariosAux = np.reshape(previsoesNosCenariosAux, (12*5, int(numCenarios/5)))"
   ]
  },
  {
   "cell_type": "code",
   "execution_count": null,
   "metadata": {
    "scrolled": true
   },
   "outputs": [],
   "source": [
    "plt.figure(figsize=(20, 9))\n",
    "x = np.arange(1, 61, 1)\n",
    "plt.plot(x, previsoesNosCenariosAux, c='black', linewidth=0.1 )\n",
    "plt.plot(x, mediaConjuntoTeste*5, label='media Conjunto de Teste')\n",
    "plt.plot(x, mediaPrevisoesNosCenarios, label='media Previsões')\n",
    "# plt.subplot((1,2,2))\n",
    "plt.ylabel('Afluência Normalizada')\n",
    "plt.xlabel('Meses')\n",
    "plt.xlim(1, 60)\n",
    "plt.title('Previsão em vários cenários EnaSud')\n",
    "plt.legend()\n",
    "plt.xticks(x, nomesMeses_3*5, rotation=90 )\n",
    "plt.savefig('graficos/PrevisaoCenarios.jpg')\n",
    "plt.close()"
   ]
  },
  {
   "cell_type": "code",
   "execution_count": null,
   "metadata": {},
   "outputs": [],
   "source": [
    "plt.figure(figsize=(20, 9))\n",
    "x = np.arange(1, 61, 1)\n",
    "plt.plot(x, mediaConjuntoTeste*5, label='media Conjunto de Teste', marker='o')\n",
    "plt.errorbar(x, mediaPrevisoesNosCenarios, yerr=stdPrevisoesNosCenarios, label='media Previsões nos cenários', marker='o', elinewidth=0.3, ecolor='black', mfc='red', color='orange', capsize=5)\n",
    "# plt.plot(x, np.reshape(previsoesNosCenariosAux, (12, numCenarios)), c='black', linewidth=0.1 )\n",
    "# plt.subplot((1,2,2))\n",
    "plt.ylabel('Afluência Normalizada')\n",
    "plt.xlabel('Meses')\n",
    "plt.xlim(1, 60)\n",
    "plt.title('Previsão em vários cenários EnaSud')\n",
    "plt.legend()\n",
    "nomesMeses_3 = [mes[0:3] for mes in nomesMeses]\n",
    "plt.xticks(x, nomesMeses_3 *5, rotation=90)\n",
    "plt.savefig('graficos/PrevisaoCenariosVariacao.jpg')\n",
    "plt.close()"
   ]
  },
  {
   "cell_type": "code",
   "execution_count": null,
   "metadata": {},
   "outputs": [],
   "source": []
  }
 ],
 "metadata": {
  "kernelspec": {
   "display_name": "Python 3",
   "language": "python",
   "name": "python3"
  },
  "language_info": {
   "codemirror_mode": {
    "name": "ipython",
    "version": 3
   },
   "file_extension": ".py",
   "mimetype": "text/x-python",
   "name": "python",
   "nbconvert_exporter": "python",
   "pygments_lexer": "ipython3",
   "version": "3.6.5"
  }
 },
 "nbformat": 4,
 "nbformat_minor": 2
}
