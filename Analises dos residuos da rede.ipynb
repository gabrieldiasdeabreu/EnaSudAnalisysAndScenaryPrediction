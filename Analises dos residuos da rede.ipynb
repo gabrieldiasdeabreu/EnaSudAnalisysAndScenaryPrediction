{
 "cells": [
  {
   "cell_type": "code",
   "execution_count": 2,
   "metadata": {},
   "outputs": [
    {
     "name": "stderr",
     "output_type": "stream",
     "text": [
      "/home/gabrieldias/anaconda3/lib/python3.6/site-packages/matplotlib/font_manager.py:281: UserWarning: Matplotlib is building the font cache using fc-list. This may take a moment.\n",
      "  'Matplotlib is building the font cache using fc-list. '\n"
     ]
    }
   ],
   "source": [
    "import pandas as pd\n",
    "import numpy as np\n",
    "import matplotlib.pyplot as plt"
   ]
  },
  {
   "cell_type": "code",
   "execution_count": 22,
   "metadata": {},
   "outputs": [
    {
     "data": {
      "text/plain": [
       "array([ 67757.,  67701.,  78019.,  55945.,  69868.,  45814.,  74338.,\n",
       "        62851.,  64417.,  64945.,  56448.,  54677.,  88540.,  44629.,\n",
       "        50867.,  89701.,  62991.,  60750.,  61071.,  52220.,  64332.,\n",
       "        42245.,  33373.,  38248.,  43851.,  46101.,  66849.,  49731.,\n",
       "        74403.,  59321.,  80898.,  55728.,  73774.,  45032.,  72212.,\n",
       "        80864.,  73115.,  58304.,  40224.,  63675.,  37338.,  47799.,\n",
       "        63383.,  74245.,  59203.,  50005.,  82494.,  81321.,  78483.,\n",
       "        83501.,  79473.,  95056., 107230.,  73342.,  83591.,  63856.,\n",
       "        62404.,  56858.,  66623.,  89453.,  58431.,  69304.,  58676.,\n",
       "        74727.,  63062.,  62493., 101548.,  50529.,  68223.,  63746.,\n",
       "        49695.,  73754.,  68569.,  57513.,  75327.,  58446., 104966.,\n",
       "        49360.,  63907.,  82330.,  84097.,  82150.,  55868.,  42424.,\n",
       "        32755.,  81227.])"
      ]
     },
     "execution_count": 22,
     "metadata": {},
     "output_type": "execute_result"
    }
   ],
   "source": [
    "mes = 1\n",
    "residuos = pd.read_csv('Residuos/saidaModeloPraCenarios_'+str(mes)+'.csv')\n",
    "residuos = residuos['diferenca']\n",
    "mesReal"
   ]
  },
  {
   "cell_type": "code",
   "execution_count": 9,
   "metadata": {},
   "outputs": [
    {
     "data": {
      "text/plain": [
       "<matplotlib.axes._subplots.AxesSubplot at 0x7f86695fd0b8>"
      ]
     },
     "execution_count": 9,
     "metadata": {},
     "output_type": "execute_result"
    },
    {
     "data": {
      "image/png": "[encoded data removed]",
      "text/plain": [
       "<matplotlib.figure.Figure at 0x7f86693c14e0>"
      ]
     },
     "metadata": {},
     "output_type": "display_data"
    }
   ],
   "source": [
    "pd.DataFrame(residuos).boxplot()"
   ]
  },
  {
   "cell_type": "code",
   "execution_count": null,
   "metadata": {},
   "outputs": [],
   "source": []
  }
 ],
 "metadata": {
  "kernelspec": {
   "display_name": "Python 3",
   "language": "python",
   "name": "python3"
  },
  "language_info": {
   "codemirror_mode": {
    "name": "ipython",
    "version": 3
   },
   "file_extension": ".py",
   "mimetype": "text/x-python",
   "name": "python",
   "nbconvert_exporter": "python",
   "pygments_lexer": "ipython3",
   "version": "3.6.5"
  }
 },
 "nbformat": 4,
 "nbformat_minor": 2
}
